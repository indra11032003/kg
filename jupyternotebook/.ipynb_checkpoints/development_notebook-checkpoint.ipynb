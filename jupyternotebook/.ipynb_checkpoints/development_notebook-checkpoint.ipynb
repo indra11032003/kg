{
 "cells": [
  {
   "cell_type": "code",
   "execution_count": 4,
   "id": "8dc59df0-e971-4eaf-818c-345068bc737b",
   "metadata": {},
   "outputs": [],
   "source": [
    "import os\n",
    "from docx import Document\n",
    "import PyPDF2\n",
    "import stanza\n",
    "from transformers import pipeline\n",
    "from neo4j import GraphDatabase\n",
    "import cohere\n",
    "import ipywidgets as widgets\n",
    "from IPython.display import display\n",
    "\n"
   ]
  },
  {
   "cell_type": "code",
   "execution_count": 7,
   "id": "743e97e1-ea7d-451d-a07c-6e9f83c13031",
   "metadata": {},
   "outputs": [
    {
     "name": "stderr",
     "output_type": "stream",
     "text": [
      "Downloading https://raw.githubusercontent.com/stanfordnlp/stanza-resources/main/resources_1.10.0.json: 424kB [00:00, 5.45MB/s]\n",
      "2025-01-31 10:47:23 INFO: Downloaded file to C:\\Users\\shubh\\stanza_resources\\resources.json\n",
      "2025-01-31 10:47:23 INFO: Downloading default packages for language: en (English) ...\n",
      "2025-01-31 10:47:25 INFO: File exists: C:\\Users\\shubh\\stanza_resources\\en\\default.zip\n",
      "2025-01-31 10:47:28 INFO: Finished downloading models and saved to C:\\Users\\shubh\\stanza_resources\n",
      "2025-01-31 10:47:28 INFO: Checking for updates to resources.json in case models have been updated.  Note: this behavior can be turned off with download_method=None or download_method=DownloadMethod.REUSE_RESOURCES\n",
      "Downloading https://raw.githubusercontent.com/stanfordnlp/stanza-resources/main/resources_1.10.0.json: 424kB [00:00, 5.10MB/s]\n",
      "2025-01-31 10:47:28 INFO: Downloaded file to C:\\Users\\shubh\\stanza_resources\\resources.json\n",
      "2025-01-31 10:47:28 WARNING: Language en package default expects mwt, which has been added\n",
      "2025-01-31 10:47:29 INFO: Loading these models for language: en (English):\n",
      "=========================================\n",
      "| Processor | Package                   |\n",
      "-----------------------------------------\n",
      "| tokenize  | combined                  |\n",
      "| mwt       | combined                  |\n",
      "| coref     | udcoref_xlm-roberta-lora  |\n",
      "| ner       | ontonotes-ww-multi_charlm |\n",
      "=========================================\n",
      "\n",
      "2025-01-31 10:47:29 INFO: Using device: cpu\n",
      "2025-01-31 10:47:29 INFO: Loading: tokenize\n",
      "2025-01-31 10:47:29 INFO: Loading: mwt\n",
      "2025-01-31 10:47:29 INFO: Loading: coref\n",
      "2025-01-31 10:47:34 INFO: Loading: ner\n",
      "2025-01-31 10:47:37 INFO: Done loading processors!\n"
     ]
    }
   ],
   "source": [
    "stanza.download(\"en\")  # Download the English NLP model\n",
    "nlp = stanza.Pipeline(lang=\"en\", processors=\"tokenize,ner,coref\")\n"
   ]
  },
  {
   "cell_type": "code",
   "execution_count": null,
   "id": "001794e8-6fc0-481e-b804-3c87ed23d501",
   "metadata": {},
   "outputs": [],
   "source": []
  },
  {
   "cell_type": "code",
   "execution_count": 6,
   "id": "e48eff1f-144a-4b6e-a048-27e1a15ad1bb",
   "metadata": {},
   "outputs": [
    {
     "name": "stdout",
     "output_type": "stream",
     "text": [
      "Collecting peft\n",
      "  Downloading peft-0.13.2-py3-none-any.whl.metadata (13 kB)\n",
      "Requirement already satisfied: numpy>=1.17 in c:\\users\\shubh\\appdata\\local\\programs\\python\\python38\\lib\\site-packages (from peft) (1.24.4)\n",
      "Requirement already satisfied: packaging>=20.0 in c:\\users\\shubh\\appdata\\local\\programs\\python\\python38\\lib\\site-packages (from peft) (24.2)\n",
      "Requirement already satisfied: psutil in c:\\users\\shubh\\appdata\\local\\programs\\python\\python38\\lib\\site-packages (from peft) (6.1.1)\n",
      "Requirement already satisfied: pyyaml in c:\\users\\shubh\\appdata\\local\\programs\\python\\python38\\lib\\site-packages (from peft) (6.0.2)\n",
      "Requirement already satisfied: torch>=1.13.0 in c:\\users\\shubh\\appdata\\local\\programs\\python\\python38\\lib\\site-packages (from peft) (2.4.1)\n",
      "Requirement already satisfied: transformers in c:\\users\\shubh\\appdata\\local\\programs\\python\\python38\\lib\\site-packages (from peft) (4.46.3)\n",
      "Requirement already satisfied: tqdm in c:\\users\\shubh\\appdata\\local\\programs\\python\\python38\\lib\\site-packages (from peft) (4.67.1)\n",
      "Collecting accelerate>=0.21.0 (from peft)\n",
      "  Downloading accelerate-1.0.1-py3-none-any.whl.metadata (19 kB)\n",
      "Requirement already satisfied: safetensors in c:\\users\\shubh\\appdata\\local\\programs\\python\\python38\\lib\\site-packages (from peft) (0.5.2)\n",
      "Requirement already satisfied: huggingface-hub>=0.17.0 in c:\\users\\shubh\\appdata\\local\\programs\\python\\python38\\lib\\site-packages (from peft) (0.27.1)\n",
      "Requirement already satisfied: filelock in c:\\users\\shubh\\appdata\\local\\programs\\python\\python38\\lib\\site-packages (from huggingface-hub>=0.17.0->peft) (3.16.1)\n",
      "Requirement already satisfied: fsspec>=2023.5.0 in c:\\users\\shubh\\appdata\\local\\programs\\python\\python38\\lib\\site-packages (from huggingface-hub>=0.17.0->peft) (2024.12.0)\n",
      "Requirement already satisfied: requests in c:\\users\\shubh\\appdata\\local\\programs\\python\\python38\\lib\\site-packages (from huggingface-hub>=0.17.0->peft) (2.32.3)\n",
      "Requirement already satisfied: typing-extensions>=3.7.4.3 in c:\\users\\shubh\\appdata\\local\\programs\\python\\python38\\lib\\site-packages (from huggingface-hub>=0.17.0->peft) (4.12.2)\n",
      "Requirement already satisfied: sympy in c:\\users\\shubh\\appdata\\local\\programs\\python\\python38\\lib\\site-packages (from torch>=1.13.0->peft) (1.13.3)\n",
      "Requirement already satisfied: networkx in c:\\users\\shubh\\appdata\\local\\programs\\python\\python38\\lib\\site-packages (from torch>=1.13.0->peft) (3.1)\n",
      "Requirement already satisfied: jinja2 in c:\\users\\shubh\\appdata\\local\\programs\\python\\python38\\lib\\site-packages (from torch>=1.13.0->peft) (3.1.5)\n",
      "Requirement already satisfied: colorama in c:\\users\\shubh\\appdata\\local\\programs\\python\\python38\\lib\\site-packages (from tqdm->peft) (0.4.6)\n",
      "Requirement already satisfied: regex!=2019.12.17 in c:\\users\\shubh\\appdata\\local\\programs\\python\\python38\\lib\\site-packages (from transformers->peft) (2024.11.6)\n",
      "Requirement already satisfied: tokenizers<0.21,>=0.20 in c:\\users\\shubh\\appdata\\local\\programs\\python\\python38\\lib\\site-packages (from transformers->peft) (0.20.3)\n",
      "Requirement already satisfied: MarkupSafe>=2.0 in c:\\users\\shubh\\appdata\\local\\programs\\python\\python38\\lib\\site-packages (from jinja2->torch>=1.13.0->peft) (2.1.5)\n",
      "Requirement already satisfied: charset-normalizer<4,>=2 in c:\\users\\shubh\\appdata\\local\\programs\\python\\python38\\lib\\site-packages (from requests->huggingface-hub>=0.17.0->peft) (3.4.1)\n",
      "Requirement already satisfied: idna<4,>=2.5 in c:\\users\\shubh\\appdata\\local\\programs\\python\\python38\\lib\\site-packages (from requests->huggingface-hub>=0.17.0->peft) (3.10)\n",
      "Requirement already satisfied: urllib3<3,>=1.21.1 in c:\\users\\shubh\\appdata\\local\\programs\\python\\python38\\lib\\site-packages (from requests->huggingface-hub>=0.17.0->peft) (2.2.3)\n",
      "Requirement already satisfied: certifi>=2017.4.17 in c:\\users\\shubh\\appdata\\local\\programs\\python\\python38\\lib\\site-packages (from requests->huggingface-hub>=0.17.0->peft) (2024.12.14)\n",
      "Requirement already satisfied: mpmath<1.4,>=1.1.0 in c:\\users\\shubh\\appdata\\local\\programs\\python\\python38\\lib\\site-packages (from sympy->torch>=1.13.0->peft) (1.3.0)\n",
      "Downloading peft-0.13.2-py3-none-any.whl (320 kB)\n",
      "Downloading accelerate-1.0.1-py3-none-any.whl (330 kB)\n",
      "Installing collected packages: accelerate, peft\n",
      "Successfully installed accelerate-1.0.1 peft-0.13.2\n"
     ]
    }
   ],
   "source": [
    "!pip install peft\n"
   ]
  },
  {
   "cell_type": "code",
   "execution_count": null,
   "id": "43357146-3c5f-4f19-ab31-2271c87b7719",
   "metadata": {},
   "outputs": [
    {
     "name": "stderr",
     "output_type": "stream",
     "text": [
      "c:\\users\\shubh\\appdata\\local\\programs\\python\\python38\\lib\\site-packages\\huggingface_hub\\file_download.py:140: UserWarning: `huggingface_hub` cache-system uses symlinks by default to efficiently store duplicated files but your machine does not support them in C:\\Users\\shubh\\.cache\\huggingface\\hub\\models--Babelscape--rebel-large. Caching files will still work but in a degraded version that might require more space on your disk. This warning can be disabled by setting the `HF_HUB_DISABLE_SYMLINKS_WARNING` environment variable. For more details, see https://huggingface.co/docs/huggingface_hub/how-to-cache#limitations.\n",
      "To support symlinks on Windows, you either need to activate Developer Mode or to run Python as an administrator. In order to activate developer mode, see this article: https://docs.microsoft.com/en-us/windows/apps/get-started/enable-your-device-for-development\n",
      "  warnings.warn(message)\n"
     ]
    }
   ],
   "source": [
    "relation_extraction_pipeline = pipeline(\"text2text-generation\", model=\"Babelscape/rebel-large\")\n",
    "\n"
   ]
  },
  {
   "cell_type": "code",
   "execution_count": null,
   "id": "0f415a41-8d5d-44b2-bb97-8e9f46c7aecd",
   "metadata": {},
   "outputs": [],
   "source": [
    "text = \"Barack Obama was born in Hawaii and was the 44th President of the United States.\"\n",
    "output = relation_extraction_pipeline(text)\n",
    "print(output)\n"
   ]
  },
  {
   "cell_type": "code",
   "execution_count": null,
   "id": "b9972747-daae-4f82-9684-0cafd605e3cf",
   "metadata": {},
   "outputs": [],
   "source": []
  }
 ],
 "metadata": {
  "kernelspec": {
   "display_name": "Python 3 (ipykernel)",
   "language": "python",
   "name": "python3"
  },
  "language_info": {
   "codemirror_mode": {
    "name": "ipython",
    "version": 3
   },
   "file_extension": ".py",
   "mimetype": "text/x-python",
   "name": "python",
   "nbconvert_exporter": "python",
   "pygments_lexer": "ipython3",
   "version": "3.8.10"
  }
 },
 "nbformat": 4,
 "nbformat_minor": 5
}
